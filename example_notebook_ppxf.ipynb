{
 "cells": [
  {
   "cell_type": "code",
   "execution_count": null,
   "id": "a28030d7",
   "metadata": {},
   "outputs": [],
   "source": [
    "# Import necessary packages \n",
    "\n",
    "import numpy as np\n",
    "import matplotlib.pyplot as plt\n",
    "from astropy.io import fits\n",
    "from astropy.table import Table\n",
    "from scipy.optimize import curve_fit\n",
    "import numpy as np\n",
    "from astropy.modeling import models\n",
    "import astropy.units as u\n",
    "\n",
    "\n",
    "from os import path\n",
    "\n",
    "import numpy as np\n",
    "import matplotlib.pyplot as plt\n",
    "from astropy.io import fits\n",
    "\n",
    "from ppxf.ppxf import ppxf\n",
    "import ppxf.ppxf_util as util\n",
    "import ppxf.miles_util as lib\n",
    "\n",
    "ppxf_dir = path.dirname(path.realpath(lib.__file__))"
   ]
  },
  {
   "cell_type": "code",
   "execution_count": null,
   "id": "21029a8c",
   "metadata": {},
   "outputs": [],
   "source": [
    "# Load in a data file (spectra)\n",
    "hdul = fits.open(\"spec-1645-53172-0251.fits\")\n",
    "\n",
    "for i in range(len(hdul)):\n",
    "    table_data = hdul[i].data\n",
    "    #print(\"Table\", i+1)\n",
    "    #print(table_data)\n",
    "table = Table(hdul[1].data)\n",
    "\n",
    "# Define our parameters: wavelenght, flux, and the model spectra\n",
    "model = table[\"model\"]\n",
    "loglam = table[\"loglam\"]\n",
    "wave = 10**loglam\n",
    "flux = table[\"flux\"]\n",
    "\n",
    "galaxy = flux/np.median(flux)"
   ]
  },
  {
   "cell_type": "markdown",
   "id": "e53f1ea6",
   "metadata": {},
   "source": [
    "#### From ppxf page: \n",
    "\n",
    "The SDSS wavelengths are in vacuum, while the MILES ones are in air. For a rigorous treatment, the SDSS vacuum wavelengths should be converted into air wavelengths and the spectra should be resampled. To avoid resampling, given that the wavelength dependence of the correction is very weak, it can be approximated with a constant factor."
   ]
  },
  {
   "cell_type": "code",
   "execution_count": null,
   "id": "eea916c2",
   "metadata": {},
   "outputs": [],
   "source": [
    "# Input source redshift \n",
    "z=0.0423\n",
    "\n",
    "wave *= np.median(util.vac_to_air(wave)/wave)\n",
    "rms = 0.019  # rms scatter of the spectrum residuals\n",
    "goodpixels = np.arange(galaxy.size)  # fit full spectrum\n",
    "noise = np.full_like(galaxy, rms)\n",
    "wave_good = wave[goodpixels]\n",
    "\n",
    "lam_range_gal = np.array([np.min(wave_good), np.max(wave_good)])"
   ]
  },
  {
   "cell_type": "code",
   "execution_count": null,
   "id": "d8e6c69e",
   "metadata": {},
   "outputs": [],
   "source": [
    "# Read in photometry file\n",
    "\n",
    "phot_file = Table(\"photometry.fits\")\n",
    "\n",
    "phot_galaxy = np.array(phot_file[\"flux\"]) \n",
    "p_noise = np.array(phot_file[\"flux_err\"])\n",
    "phot_noise = p_noise/phot_galaxy\n",
    "\n",
    "# Define the photometry bands used\n",
    "\n",
    "bands = ['SDSS/u', 'SDSS/g', 'SDSS/r', 'SDSS/i', 'SDSS/z']\n",
    "phot_lam, phot_templates, ok_temp = util.synthetic_photometry(templates, miles.lam_temp, bands, redshift=z, quiet=1)\n",
    "phot = {\"templates\": phot_templates, \"galaxy\": phot_galaxy, \"noise\": phot_noise, \"lam\": phot_lam}"
   ]
  },
  {
   "cell_type": "code",
   "execution_count": null,
   "id": "36a38699",
   "metadata": {},
   "outputs": [],
   "source": [
    "from astropy import constants as const\n",
    "\n",
    "#velscale = c*Delta[ln(lam)]\n",
    "\n",
    "c = 299792.458  # Speed of light in km/s\n",
    "d_ln_lam = np.diff(np.log(wave_good))\n",
    "velscale = c * np.mean(d_ln_lam)\n",
    "\n",
    "FWHM_gal = 2.76  # SDSS has an approximate instrumental resolution FWHM of 2.76A."
   ]
  },
  {
   "cell_type": "code",
   "execution_count": null,
   "id": "3fc7e1c9",
   "metadata": {},
   "outputs": [],
   "source": [
    "# Determine path to the directory where the package models are stored\n",
    "pathname = ppxf_dir + '/miles_models/Eun1.30*.fits'\n",
    "miles = lib.miles(pathname, velscale, FWHM_gal, norm_range=[5070, 5950])\n",
    "reg_dim = miles.templates.shape[1:]\n",
    "\n",
    "# Read in stellar and gas templates (the latter based on chosen emission lines)\n",
    "stars_templates = miles.templates.reshape(miles.templates.shape[0], -1)\n",
    "\n",
    "gas_templates, gas_names, line_wave = util.emission_lines(miles.ln_lam_temp, lam_range_gal, FWHM_gal)\n",
    "\n",
    "templates = np.hstack([stars_templates, gas_templates])"
   ]
  },
  {
   "cell_type": "code",
   "execution_count": null,
   "id": "f52f9ae9",
   "metadata": {},
   "outputs": [],
   "source": [
    "vel = c*np.log(1 + z)   # eq.(8) of Cappellari (2017)\n",
    "start = [vel, 60]     # (km/s), starting guess for [V, sigma]\n",
    "\n",
    "n_stars = stars_templates.shape[1]\n",
    "n_gas = len(gas_names)\n",
    "component = [0]*n_stars + [1]*n_gas\n",
    "gas_component = np.array(component) > 0  # gas_component=True for gas templates\n",
    "\n",
    "moments = [2, 2] #[V, sigma]\n",
    "# adopt the same starting value for both gas and stars"
   ]
  },
  {
   "cell_type": "markdown",
   "id": "6e4d3b59",
   "metadata": {},
   "source": [
    "### Run ppxf!"
   ]
  },
  {
   "cell_type": "code",
   "execution_count": null,
   "id": "d7e675a1",
   "metadata": {},
   "outputs": [],
   "source": [
    "pp = ppxf(templates, galaxy, noise, velscale, start=start, \n",
    "          degree=-1, mdegree=8, lam=wave, lam_temp=miles.lam_temp, regul=1/rms,\n",
    "          reg_dim=reg_dim, gas_component=gas_component, reddening=0, \n",
    "          gas_names=gas_names, goodpixels=goodpixels, phot=phot)"
   ]
  },
  {
   "cell_type": "markdown",
   "id": "ffe8d487",
   "metadata": {},
   "source": [
    "### Optional: plot light fraction and speactra fits"
   ]
  },
  {
   "cell_type": "code",
   "execution_count": null,
   "id": "e6c768d5",
   "metadata": {},
   "outputs": [],
   "source": [
    "light_weights = pp.weights[~gas_component]      # Exclude weights of the gas templates\n",
    "light_weights = light_weights.reshape(reg_dim)  # Reshape to (n_ages, n_metal)\n",
    "light_weights /= light_weights.sum()            # Normalize to light fractions\n",
    "\n",
    "miles.mean_age_metal(light_weights);\n",
    "\n",
    "mass_weights = light_weights/miles.flux\n",
    "mass_weights /= mass_weights.sum()              # Normalize to mass fractions\n",
    "miles.mass_to_light(mass_weights, band=\"r\");\n",
    "\n",
    "\n",
    "plt.figure(figsize=(10,5))\n",
    "plt.subplot(211)\n",
    "pp.plot(spec=True, phot=False, gas_clip=True)\n",
    "plt.subplot(212)\n",
    "pp.plot(spec=False, phot=True, gas_clip=True)\n",
    "plt.tight_layout()\n",
    "\n",
    "plt.figure(figsize=(10,3))\n",
    "miles.plot(light_weights)\n",
    "plt.title(\"Light Fraction\");"
   ]
  }
 ],
 "metadata": {
  "kernelspec": {
   "display_name": "Python 3 (ipykernel)",
   "language": "python",
   "name": "python3"
  },
  "language_info": {
   "codemirror_mode": {
    "name": "ipython",
    "version": 3
   },
   "file_extension": ".py",
   "mimetype": "text/x-python",
   "name": "python",
   "nbconvert_exporter": "python",
   "pygments_lexer": "ipython3",
   "version": "3.9.19"
  }
 },
 "nbformat": 4,
 "nbformat_minor": 5
}
